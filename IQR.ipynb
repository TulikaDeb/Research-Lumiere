{
 "cells": [
  {
   "cell_type": "code",
   "execution_count": 1,
   "id": "f2e8dce6-00c3-4308-8ccb-eb661e36bd2c",
   "metadata": {},
   "outputs": [
    {
     "name": "stdout",
     "output_type": "stream",
     "text": [
      "['severity_class', 'ev_year_1.0', 'ev_year_2.0', 'ev_year_3.0', 'ev_year_4.0', 'ev_year_5.0', 'ev_year_6.0', 'ev_year_7.0', 'ev_year_8.0', 'ev_year_9.0', 'ev_year_10.0', 'ev_year_11.0', 'ev_year_12.0', 'ev_year_13.0', 'ev_year_14.0', 'ev_year_15.0', 'ev_year_16.0', 'ev_year_17.0', 'ev_month_1.0', 'ev_month_2.0', 'ev_month_3.0', 'ev_month_4.0', 'ev_month_5.0', 'ev_month_6.0', 'ev_month_7.0', 'ev_month_8.0', 'ev_month_9.0', 'ev_month_10.0', 'ev_month_11.0', 'ev_month_12.0', 'ev_dow_1.0', 'ev_dow_2.0', 'ev_dow_3.0', 'ev_dow_4.0', 'ev_dow_5.0', 'ev_dow_6.0', 'ev_dow_7.0', 'ev_nr_apt_loc_1.0', 'ev_nr_apt_loc_2.0', 'light_cond_1.0', 'light_cond_2.0', 'light_cond_3.0', 'light_cond_4.0', 'light_cond_5.0', 'light_cond_6.0', 'light_cond_7.0', 'sky_cond_nonceil_1.0', 'sky_cond_nonceil_2.0', 'sky_cond_nonceil_3.0', 'sky_cond_nonceil_4.0', 'sky_cond_nonceil_5.0', 'sky_cond_nonceil_6.0', 'sky_cond_nonceil_7.0', 'sky_cond_nonceil_8.0', 'sky_cond_nonceil_9.0', 'wx_cond_basic_1.0', 'wx_cond_basic_2.0', 'acft_category_1', 'acft_category_2', 'acft_category_3', 'acft_category_4', 'acft_category_5', 'acft_category_6', 'acft_category_7', 'acft_category_8', 'acft_category_9', 'acft_category_10', 'acft_category_11', 'category_no_1.0', 'category_no_2.0', 'category_no_3.0', 'category_no_4.0', 'category_no_5.0', 'Cause_Factor_1', 'Cause_Factor_2', 'eng_type_1.0', 'eng_type_2.0', 'eng_type_3.0', 'eng_type_4.0', 'eng_type_5.0', 'eng_type_6.0', 'eng_type_7.0', 'eng_type_8.0', 'eng_type_9.0', 'eng_type_10.0', 'eng_type_12.0', 'eng_type_13.0', 'eng_type_14.0', 'eng_type_15.0', 'eng_type_16.0', 'eng_type_17.0', 'eng_type_18.0', 'eng_type_19.0', 'eng_type_20.0', 'eng_type_21.0', 'eng_type_23.0', 'eng_type_24.0', 'eng_type_25.0', 'eng_type_26.0', 'eng_type_27.0', 'eng_type_28.0', 'eng_type_29.0', 'eng_type_30.0', 'eng_type_31.0', 'eng_type_32.0', 'eng_type_33.0', 'eng_type_34.0', 'eng_type_35.0', 'eng_type_36.0', 'eng_type_37.0', 'eng_type_38.0', 'eng_type_39.0', 'eng_type_40.0', 'eng_type_41.0', 'eng_type_42.0', 'eng_type_43.0', 'homebuilt_1.0', 'homebuilt_2.0', 'med_certf_1.0', 'med_certf_2.0', 'med_certf_3.0', 'med_certf_4.0', 'med_certf_5.0', 'med_certf_6.0', 'med_certf_7.0', 'med_certf_8.0', 'med_certf_9.0', 'med_certf_10.0', 'med_certf_11.0', 'med_certf_12.0', 'med_certf_13.0', 'med_certf_14.0', 'med_crtf_vldty_1.0', 'med_crtf_vldty_2.0', 'med_crtf_vldty_3.0', 'med_crtf_vldty_4.0', 'med_crtf_vldty_5.0', 'med_crtf_vldty_6.0', 'med_crtf_vldty_7.0', 'crew_tox_perf_1.0', 'crew_tox_perf_2.0', 'ev_time', 'apt_dist', 'apt_elev', 'sky_nonceil_ht', 'sky_ceil_ht', 'vis_sm', 'wx_temp', 'wx_dew_pt', 'wind_dir_deg', 'wind_vel_kts', 'gust_kts', 'altimeter', 'dec_latitude', 'dec_longitude', 'cert_max_gr_wt', 'afm_hrs_last_insp', 'afm_hrs', 'crew_age']\n"
     ]
    }
   ],
   "source": [
    "import pandas as pd\n",
    "df = pd.read_csv('data2.csv')\n",
    "column_names = df.columns.tolist()\n",
    "print(column_names)"
   ]
  },
  {
   "cell_type": "code",
   "execution_count": null,
   "id": "f9d1ecfd-0957-41b6-981b-af51fa86c370",
   "metadata": {},
   "outputs": [],
   "source": []
  }
 ],
 "metadata": {
  "kernelspec": {
   "display_name": "myenv",
   "language": "python",
   "name": "myenv"
  },
  "language_info": {
   "codemirror_mode": {
    "name": "ipython",
    "version": 3
   },
   "file_extension": ".py",
   "mimetype": "text/x-python",
   "name": "python",
   "nbconvert_exporter": "python",
   "pygments_lexer": "ipython3",
   "version": "3.9.15"
  }
 },
 "nbformat": 4,
 "nbformat_minor": 5
}
