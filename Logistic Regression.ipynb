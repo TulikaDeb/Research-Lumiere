{
 "cells": [
  {
   "cell_type": "code",
   "execution_count": 1,
   "id": "c2e03790-a159-4e2f-a374-0c00a243ead8",
   "metadata": {},
   "outputs": [],
   "source": [
    "import warnings \n",
    "warnings.filterwarnings('ignore')\n",
    "import pandas as pd\n",
    "import matplotlib.pyplot as plt\n",
    "from sklearn.linear_model import LogisticRegression\n",
    "from sklearn.model_selection import train_test_split\n",
    "\n",
    "from utils import utils"
   ]
  },
  {
   "cell_type": "code",
   "execution_count": 2,
   "id": "6f103092-64e8-43d6-8e8f-16d3b3ac207d",
   "metadata": {},
   "outputs": [
    {
     "data": {
      "text/html": [
       "<div>\n",
       "<style scoped>\n",
       "    .dataframe tbody tr th:only-of-type {\n",
       "        vertical-align: middle;\n",
       "    }\n",
       "\n",
       "    .dataframe tbody tr th {\n",
       "        vertical-align: top;\n",
       "    }\n",
       "\n",
       "    .dataframe thead th {\n",
       "        text-align: right;\n",
       "    }\n",
       "</style>\n",
       "<table border=\"1\" class=\"dataframe\">\n",
       "  <thead>\n",
       "    <tr style=\"text-align: right;\">\n",
       "      <th></th>\n",
       "      <th>severity_class</th>\n",
       "      <th>ev_year_1.0</th>\n",
       "      <th>ev_year_2.0</th>\n",
       "      <th>ev_year_3.0</th>\n",
       "      <th>ev_year_4.0</th>\n",
       "      <th>ev_year_5.0</th>\n",
       "      <th>ev_year_6.0</th>\n",
       "      <th>ev_year_7.0</th>\n",
       "      <th>ev_year_8.0</th>\n",
       "      <th>ev_year_9.0</th>\n",
       "      <th>...</th>\n",
       "      <th>wind_dir_deg</th>\n",
       "      <th>wind_vel_kts</th>\n",
       "      <th>gust_kts</th>\n",
       "      <th>altimeter</th>\n",
       "      <th>dec_latitude</th>\n",
       "      <th>dec_longitude</th>\n",
       "      <th>cert_max_gr_wt</th>\n",
       "      <th>afm_hrs_last_insp</th>\n",
       "      <th>afm_hrs</th>\n",
       "      <th>crew_age</th>\n",
       "    </tr>\n",
       "  </thead>\n",
       "  <tbody>\n",
       "    <tr>\n",
       "      <th>0</th>\n",
       "      <td>1</td>\n",
       "      <td>1</td>\n",
       "      <td>0</td>\n",
       "      <td>0</td>\n",
       "      <td>0</td>\n",
       "      <td>0</td>\n",
       "      <td>0</td>\n",
       "      <td>0</td>\n",
       "      <td>0</td>\n",
       "      <td>0</td>\n",
       "      <td>...</td>\n",
       "      <td>-0.331967</td>\n",
       "      <td>0.739304</td>\n",
       "      <td>-0.238516</td>\n",
       "      <td>-0.000300</td>\n",
       "      <td>-0.010371</td>\n",
       "      <td>-0.003129</td>\n",
       "      <td>-0.129643</td>\n",
       "      <td>-0.005586</td>\n",
       "      <td>-0.038301</td>\n",
       "      <td>0.226406</td>\n",
       "    </tr>\n",
       "    <tr>\n",
       "      <th>1</th>\n",
       "      <td>4</td>\n",
       "      <td>1</td>\n",
       "      <td>0</td>\n",
       "      <td>0</td>\n",
       "      <td>0</td>\n",
       "      <td>0</td>\n",
       "      <td>0</td>\n",
       "      <td>0</td>\n",
       "      <td>0</td>\n",
       "      <td>0</td>\n",
       "      <td>...</td>\n",
       "      <td>1.958724</td>\n",
       "      <td>1.941170</td>\n",
       "      <td>1.571597</td>\n",
       "      <td>0.002565</td>\n",
       "      <td>-0.010394</td>\n",
       "      <td>-0.001359</td>\n",
       "      <td>-0.139836</td>\n",
       "      <td>-0.006595</td>\n",
       "      <td>-0.177956</td>\n",
       "      <td>1.108107</td>\n",
       "    </tr>\n",
       "    <tr>\n",
       "      <th>2</th>\n",
       "      <td>5</td>\n",
       "      <td>1</td>\n",
       "      <td>0</td>\n",
       "      <td>0</td>\n",
       "      <td>0</td>\n",
       "      <td>0</td>\n",
       "      <td>0</td>\n",
       "      <td>0</td>\n",
       "      <td>0</td>\n",
       "      <td>0</td>\n",
       "      <td>...</td>\n",
       "      <td>0.404326</td>\n",
       "      <td>2.181543</td>\n",
       "      <td>-0.238516</td>\n",
       "      <td>0.002699</td>\n",
       "      <td>-0.010378</td>\n",
       "      <td>-0.001501</td>\n",
       "      <td>-0.119218</td>\n",
       "      <td>-0.006595</td>\n",
       "      <td>-0.168222</td>\n",
       "      <td>0.100449</td>\n",
       "    </tr>\n",
       "    <tr>\n",
       "      <th>3</th>\n",
       "      <td>4</td>\n",
       "      <td>1</td>\n",
       "      <td>0</td>\n",
       "      <td>0</td>\n",
       "      <td>0</td>\n",
       "      <td>0</td>\n",
       "      <td>0</td>\n",
       "      <td>0</td>\n",
       "      <td>0</td>\n",
       "      <td>0</td>\n",
       "      <td>...</td>\n",
       "      <td>0.240706</td>\n",
       "      <td>-0.462563</td>\n",
       "      <td>-0.238516</td>\n",
       "      <td>0.000167</td>\n",
       "      <td>-0.010366</td>\n",
       "      <td>-0.001984</td>\n",
       "      <td>0.044571</td>\n",
       "      <td>-0.006595</td>\n",
       "      <td>-0.093278</td>\n",
       "      <td>0.415342</td>\n",
       "    </tr>\n",
       "    <tr>\n",
       "      <th>4</th>\n",
       "      <td>4</td>\n",
       "      <td>1</td>\n",
       "      <td>0</td>\n",
       "      <td>0</td>\n",
       "      <td>0</td>\n",
       "      <td>0</td>\n",
       "      <td>0</td>\n",
       "      <td>0</td>\n",
       "      <td>0</td>\n",
       "      <td>0</td>\n",
       "      <td>...</td>\n",
       "      <td>0.322516</td>\n",
       "      <td>-0.462563</td>\n",
       "      <td>-0.238516</td>\n",
       "      <td>0.000367</td>\n",
       "      <td>-0.010372</td>\n",
       "      <td>-0.000185</td>\n",
       "      <td>-0.146555</td>\n",
       "      <td>-0.006595</td>\n",
       "      <td>0.125984</td>\n",
       "      <td>-1.033166</td>\n",
       "    </tr>\n",
       "  </tbody>\n",
       "</table>\n",
       "<p>5 rows × 159 columns</p>\n",
       "</div>"
      ],
      "text/plain": [
       "   severity_class  ev_year_1.0  ev_year_2.0  ev_year_3.0  ev_year_4.0  \\\n",
       "0               1            1            0            0            0   \n",
       "1               4            1            0            0            0   \n",
       "2               5            1            0            0            0   \n",
       "3               4            1            0            0            0   \n",
       "4               4            1            0            0            0   \n",
       "\n",
       "   ev_year_5.0  ev_year_6.0  ev_year_7.0  ev_year_8.0  ev_year_9.0  ...  \\\n",
       "0            0            0            0            0            0  ...   \n",
       "1            0            0            0            0            0  ...   \n",
       "2            0            0            0            0            0  ...   \n",
       "3            0            0            0            0            0  ...   \n",
       "4            0            0            0            0            0  ...   \n",
       "\n",
       "   wind_dir_deg  wind_vel_kts  gust_kts  altimeter  dec_latitude  \\\n",
       "0     -0.331967      0.739304 -0.238516  -0.000300     -0.010371   \n",
       "1      1.958724      1.941170  1.571597   0.002565     -0.010394   \n",
       "2      0.404326      2.181543 -0.238516   0.002699     -0.010378   \n",
       "3      0.240706     -0.462563 -0.238516   0.000167     -0.010366   \n",
       "4      0.322516     -0.462563 -0.238516   0.000367     -0.010372   \n",
       "\n",
       "   dec_longitude  cert_max_gr_wt  afm_hrs_last_insp   afm_hrs  crew_age  \n",
       "0      -0.003129       -0.129643          -0.005586 -0.038301  0.226406  \n",
       "1      -0.001359       -0.139836          -0.006595 -0.177956  1.108107  \n",
       "2      -0.001501       -0.119218          -0.006595 -0.168222  0.100449  \n",
       "3      -0.001984        0.044571          -0.006595 -0.093278  0.415342  \n",
       "4      -0.000185       -0.146555          -0.006595  0.125984 -1.033166  \n",
       "\n",
       "[5 rows x 159 columns]"
      ]
     },
     "execution_count": 2,
     "metadata": {},
     "output_type": "execute_result"
    }
   ],
   "source": [
    "# df=pd.read_csv('data2.csv')\n",
    "df=pd.read_csv('./data/data2.csv')\n",
    "df.head()"
   ]
  },
  {
   "cell_type": "code",
   "execution_count": 3,
   "id": "face46a7-1ef8-4fa3-9690-655f02235fcd",
   "metadata": {},
   "outputs": [],
   "source": [
    "x = df.drop(columns=['severity_class'])\n",
    "y = df[['severity_class']]\n",
    "x_train, x_test, y_train, y_test = train_test_split(x, y, test_size=0.2, random_state=42)"
   ]
  },
  {
   "cell_type": "code",
   "execution_count": 4,
   "id": "47fa187a-1283-4f33-9e4e-166a4e50a4b1",
   "metadata": {},
   "outputs": [],
   "source": [
    "model = LogisticRegression()"
   ]
  },
  {
   "cell_type": "code",
   "execution_count": 5,
   "id": "d7f840ee-f633-444e-bdd5-cc420990749c",
   "metadata": {},
   "outputs": [
    {
     "data": {
      "text/html": [
       "<style>#sk-container-id-1 {color: black;}#sk-container-id-1 pre{padding: 0;}#sk-container-id-1 div.sk-toggleable {background-color: white;}#sk-container-id-1 label.sk-toggleable__label {cursor: pointer;display: block;width: 100%;margin-bottom: 0;padding: 0.3em;box-sizing: border-box;text-align: center;}#sk-container-id-1 label.sk-toggleable__label-arrow:before {content: \"▸\";float: left;margin-right: 0.25em;color: #696969;}#sk-container-id-1 label.sk-toggleable__label-arrow:hover:before {color: black;}#sk-container-id-1 div.sk-estimator:hover label.sk-toggleable__label-arrow:before {color: black;}#sk-container-id-1 div.sk-toggleable__content {max-height: 0;max-width: 0;overflow: hidden;text-align: left;background-color: #f0f8ff;}#sk-container-id-1 div.sk-toggleable__content pre {margin: 0.2em;color: black;border-radius: 0.25em;background-color: #f0f8ff;}#sk-container-id-1 input.sk-toggleable__control:checked~div.sk-toggleable__content {max-height: 200px;max-width: 100%;overflow: auto;}#sk-container-id-1 input.sk-toggleable__control:checked~label.sk-toggleable__label-arrow:before {content: \"▾\";}#sk-container-id-1 div.sk-estimator input.sk-toggleable__control:checked~label.sk-toggleable__label {background-color: #d4ebff;}#sk-container-id-1 div.sk-label input.sk-toggleable__control:checked~label.sk-toggleable__label {background-color: #d4ebff;}#sk-container-id-1 input.sk-hidden--visually {border: 0;clip: rect(1px 1px 1px 1px);clip: rect(1px, 1px, 1px, 1px);height: 1px;margin: -1px;overflow: hidden;padding: 0;position: absolute;width: 1px;}#sk-container-id-1 div.sk-estimator {font-family: monospace;background-color: #f0f8ff;border: 1px dotted black;border-radius: 0.25em;box-sizing: border-box;margin-bottom: 0.5em;}#sk-container-id-1 div.sk-estimator:hover {background-color: #d4ebff;}#sk-container-id-1 div.sk-parallel-item::after {content: \"\";width: 100%;border-bottom: 1px solid gray;flex-grow: 1;}#sk-container-id-1 div.sk-label:hover label.sk-toggleable__label {background-color: #d4ebff;}#sk-container-id-1 div.sk-serial::before {content: \"\";position: absolute;border-left: 1px solid gray;box-sizing: border-box;top: 0;bottom: 0;left: 50%;z-index: 0;}#sk-container-id-1 div.sk-serial {display: flex;flex-direction: column;align-items: center;background-color: white;padding-right: 0.2em;padding-left: 0.2em;position: relative;}#sk-container-id-1 div.sk-item {position: relative;z-index: 1;}#sk-container-id-1 div.sk-parallel {display: flex;align-items: stretch;justify-content: center;background-color: white;position: relative;}#sk-container-id-1 div.sk-item::before, #sk-container-id-1 div.sk-parallel-item::before {content: \"\";position: absolute;border-left: 1px solid gray;box-sizing: border-box;top: 0;bottom: 0;left: 50%;z-index: -1;}#sk-container-id-1 div.sk-parallel-item {display: flex;flex-direction: column;z-index: 1;position: relative;background-color: white;}#sk-container-id-1 div.sk-parallel-item:first-child::after {align-self: flex-end;width: 50%;}#sk-container-id-1 div.sk-parallel-item:last-child::after {align-self: flex-start;width: 50%;}#sk-container-id-1 div.sk-parallel-item:only-child::after {width: 0;}#sk-container-id-1 div.sk-dashed-wrapped {border: 1px dashed gray;margin: 0 0.4em 0.5em 0.4em;box-sizing: border-box;padding-bottom: 0.4em;background-color: white;}#sk-container-id-1 div.sk-label label {font-family: monospace;font-weight: bold;display: inline-block;line-height: 1.2em;}#sk-container-id-1 div.sk-label-container {text-align: center;}#sk-container-id-1 div.sk-container {/* jupyter's `normalize.less` sets `[hidden] { display: none; }` but bootstrap.min.css set `[hidden] { display: none !important; }` so we also need the `!important` here to be able to override the default hidden behavior on the sphinx rendered scikit-learn.org. See: https://github.com/scikit-learn/scikit-learn/issues/21755 */display: inline-block !important;position: relative;}#sk-container-id-1 div.sk-text-repr-fallback {display: none;}</style><div id=\"sk-container-id-1\" class=\"sk-top-container\"><div class=\"sk-text-repr-fallback\"><pre>LogisticRegression()</pre><b>In a Jupyter environment, please rerun this cell to show the HTML representation or trust the notebook. <br />On GitHub, the HTML representation is unable to render, please try loading this page with nbviewer.org.</b></div><div class=\"sk-container\" hidden><div class=\"sk-item\"><div class=\"sk-estimator sk-toggleable\"><input class=\"sk-toggleable__control sk-hidden--visually\" id=\"sk-estimator-id-1\" type=\"checkbox\" checked><label for=\"sk-estimator-id-1\" class=\"sk-toggleable__label sk-toggleable__label-arrow\">LogisticRegression</label><div class=\"sk-toggleable__content\"><pre>LogisticRegression()</pre></div></div></div></div></div>"
      ],
      "text/plain": [
       "LogisticRegression()"
      ]
     },
     "execution_count": 5,
     "metadata": {},
     "output_type": "execute_result"
    }
   ],
   "source": [
    "model.fit(x,y)"
   ]
  },
  {
   "cell_type": "code",
   "execution_count": 7,
   "id": "e8f56a2f-a8ab-4500-b65c-5cb238a7a249",
   "metadata": {},
   "outputs": [
    {
     "data": {
      "text/plain": [
       "0.5730717185385656"
      ]
     },
     "execution_count": 7,
     "metadata": {},
     "output_type": "execute_result"
    }
   ],
   "source": [
    "model.score(x,y)"
   ]
  },
  {
   "cell_type": "code",
   "execution_count": 8,
   "id": "a5ef64ae-4dd1-4630-90ae-64abf5e52176",
   "metadata": {},
   "outputs": [
    {
     "name": "stdout",
     "output_type": "stream",
     "text": [
      "Accuracy: 0.57\n",
      "Balanced Accuracy: 0.11\n",
      "Precision: 0.58\n",
      "Recall: 0.57\n",
      "F1 Score: 0.42\n"
     ]
    }
   ],
   "source": [
    "from sklearn.metrics import accuracy_score,recall_score, f1_score, precision_score, balanced_accuracy_score\n",
    "y_pred = model.predict(x_test)\n",
    "\n",
    "a, b, c, d, e = utils.print_metrics(y_test,y_pred)"
   ]
  },
  {
   "cell_type": "code",
   "execution_count": 9,
   "id": "7c813254-660b-421a-b102-0ddfff6d844e",
   "metadata": {},
   "outputs": [
    {
     "data": {
      "image/png": "[encoded data removed]",
      "text/plain": [
       "<Figure size 1000x700 with 2 Axes>"
      ]
     },
     "metadata": {},
     "output_type": "display_data"
    }
   ],
   "source": [
    "import numpy as np\n",
    "import matplotlib.pyplot as plt\n",
    "from sklearn.metrics import confusion_matrix\n",
    "import seaborn as sns\n",
    "\n",
    "# Generate confusion matrix\n",
    "cm = confusion_matrix(y_test, y_pred)\n",
    "\n",
    "# Plot confusion matrix\n",
    "plt.figure(figsize=(10, 7))\n",
    "sns.heatmap(cm, annot=True, fmt='d', cmap='Blues', xticklabels=range(9), yticklabels=range(9))\n",
    "plt.title('Confusion Matrix for 9-Class Classification')\n",
    "plt.xlabel('Predicted Labels')\n",
    "plt.ylabel('True Labels')\n",
    "plt.show()"
   ]
  },
  {
   "cell_type": "code",
   "execution_count": null,
   "id": "3e26f1f8-ac23-4873-bf69-3174c1799151",
   "metadata": {},
   "outputs": [],
   "source": []
  }
 ],
 "metadata": {
  "kernelspec": {
   "display_name": "phd_main",
   "language": "python",
   "name": "python3"
  },
  "language_info": {
   "codemirror_mode": {
    "name": "ipython",
    "version": 3
   },
   "file_extension": ".py",
   "mimetype": "text/x-python",
   "name": "python",
   "nbconvert_exporter": "python",
   "pygments_lexer": "ipython3",
   "version": "3.11.5"
  }
 },
 "nbformat": 4,
 "nbformat_minor": 5
}
