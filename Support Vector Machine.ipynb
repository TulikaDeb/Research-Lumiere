{
 "cells": [
  {
   "cell_type": "code",
   "execution_count": null,
   "id": "4bb24ce7-eba3-42d7-a6be-b6af517a23a5",
   "metadata": {},
   "outputs": [],
   "source": [
    "import pandas as pd\n",
    "from sklearn.model_selection import train_test_split\n",
    "from sklearn.svm import SVC\n",
    "from sklearn.multioutput import MultiOutputClassifier\n",
    "from sklearn.metrics import accuracy_score"
   ]
  },
  {
   "cell_type": "code",
   "execution_count": 2,
   "id": "a96f2ad5-7476-42c1-947d-0eb9dd505115",
   "metadata": {},
   "outputs": [
    {
     "name": "stderr",
     "output_type": "stream",
     "text": [
      "C:\\Users\\Tanushree\\AppData\\Local\\Temp\\ipykernel_16976\\3358033974.py:1: DtypeWarning: Columns (0) have mixed types. Specify dtype option on import or set low_memory=False.\n",
      "  df=pd.read_csv('final_data_new.csv')\n"
     ]
    }
   ],
   "source": [
    "df=pd.read_csv('final_data_new.csv')"
   ]
  },
  {
   "cell_type": "code",
   "execution_count": 4,
   "id": "cef2205e-6623-45a7-9eb8-26b62a305eff",
   "metadata": {},
   "outputs": [],
   "source": [
    "X = df.drop(columns=['severity_class_1.0', 'severity_class_2.0', 'severity_class_3.0', \n",
    "                       'severity_class_4.0', 'severity_class_5.0', 'severity_class_6.0', \n",
    "                       'severity_class_7.0', 'severity_class_8.0', 'severity_class_9.0', 'ev_id'])\n",
    "\n",
    "y = df[['severity_class_1.0', 'severity_class_2.0', 'severity_class_3.0', \n",
    "           'severity_class_4.0', 'severity_class_5.0', 'severity_class_6.0', \n",
    "           'severity_class_7.0', 'severity_class_8.0', 'severity_class_9.0']]"
   ]
  },
  {
   "cell_type": "code",
   "execution_count": null,
   "id": "1afdb787-6664-4b4e-82a7-b9741c751940",
   "metadata": {},
   "outputs": [],
   "source": [
    "X_train, X_test, y_train, y_test = train_test_split(X, y, test_size=0.2, random_state=42)\n",
    "scaler = StandardScaler()\n",
    "X_train = scaler.fit_transform(X_train)\n",
    "X_test = scaler.transform(X_test)\n",
    "svm = SVC(random_state=42)\n",
    "from sklearn.multioutput import MultiOutputClassifier\n",
    "multi_target_svm = MultiOutputClassifier(svm, n_jobs=-1)\n",
    "multi_target_svm.fit(X_train, y_train)"
   ]
  },
  {
   "cell_type": "code",
   "execution_count": null,
   "id": "3db6ca35-be7c-46d8-8c92-77854249aaaa",
   "metadata": {},
   "outputs": [],
   "source": []
  }
 ],
 "metadata": {
  "kernelspec": {
   "display_name": "myenv",
   "language": "python",
   "name": "myenv"
  },
  "language_info": {
   "codemirror_mode": {
    "name": "ipython",
    "version": 3
   },
   "file_extension": ".py",
   "mimetype": "text/x-python",
   "name": "python",
   "nbconvert_exporter": "python",
   "pygments_lexer": "ipython3",
   "version": "3.9.19"
  }
 },
 "nbformat": 4,
 "nbformat_minor": 5
}
