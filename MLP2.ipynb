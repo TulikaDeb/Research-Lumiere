{
 "cells": [
  {
   "cell_type": "code",
   "execution_count": 57,
   "id": "f107c20c-fa19-4244-8eb7-f002796a35f3",
   "metadata": {},
   "outputs": [],
   "source": [
    "import pandas as pd"
   ]
  },
  {
   "cell_type": "code",
   "execution_count": 58,
   "id": "f20323de-587b-4e3e-9634-57d1c123ead9",
   "metadata": {},
   "outputs": [],
   "source": [
    "import numpy as np"
   ]
  },
  {
   "cell_type": "code",
   "execution_count": 59,
   "id": "798e83ff-362c-416a-8c36-3c7447b56579",
   "metadata": {},
   "outputs": [],
   "source": [
    "from tensorflow.keras.models import Sequential\n",
    "from tensorflow.keras.layers import Dense, Flatten"
   ]
  },
  {
   "cell_type": "code",
   "execution_count": 60,
   "id": "07be04fc-5ce0-4653-ae57-1c7c759a6ae6",
   "metadata": {},
   "outputs": [],
   "source": [
    "from sklearn.model_selection import train_test_split"
   ]
  },
  {
   "cell_type": "code",
   "execution_count": 61,
   "id": "cbdab0a3-35f9-482e-8de4-6f67a2f2c288",
   "metadata": {},
   "outputs": [
    {
     "name": "stderr",
     "output_type": "stream",
     "text": [
      "C:\\Users\\Tanushree\\AppData\\Local\\Temp\\ipykernel_3268\\402445827.py:1: DtypeWarning: Columns (0) have mixed types. Specify dtype option on import or set low_memory=False.\n",
      "  df = pd.read_csv('final_data_new.csv')\n"
     ]
    }
   ],
   "source": [
    "df = pd.read_csv('final_data_new.csv')\n",
    "\n",
    "y = df.iloc[:, 1:10]\n",
    "X = df.iloc[:, 10:]\n",
    "X_train, X_test, y_train, y_test = train_test_split(X, y, test_size=0.2, random_state=42)\n",
    "\n",
    "y_train_NoOHC = np.argmax(y_train.values, axis=1)\n",
    "y_test_NoOHC = np.argmax(y_test.values, axis=1)"
   ]
  },
  {
   "cell_type": "code",
   "execution_count": 62,
   "id": "ed6979db-3594-4cc3-baf6-83baef43e3a9",
   "metadata": {},
   "outputs": [
    {
     "data": {
      "text/plain": [
       "194"
      ]
     },
     "execution_count": 62,
     "metadata": {},
     "output_type": "execute_result"
    }
   ],
   "source": [
    "N_features = X_train.shape[1]\n",
    "X_train.shape[1]"
   ]
  },
  {
   "cell_type": "code",
   "execution_count": 90,
   "id": "5e71670a-bc34-4b43-ab49-adea1ef289dc",
   "metadata": {},
   "outputs": [],
   "source": [
    "model2 = Sequential()"
   ]
  },
  {
   "cell_type": "code",
   "execution_count": 91,
   "id": "0f5181ea-42e5-45e1-8c8a-5b82035ad714",
   "metadata": {},
   "outputs": [],
   "source": [
    "model2.add(Dense(512, input_shape=(N_features,), activation='relu'))\n",
    "model2.add(Dense(256, activation='relu'))\n",
    "model2.add(Dense(9, activation='softmax'))"
   ]
  },
  {
   "cell_type": "code",
   "execution_count": 92,
   "id": "42b7a6f3-6bc7-4204-a4ba-09cec39b4480",
   "metadata": {},
   "outputs": [],
   "source": [
    "model2.compile(optimizer='adam', \n",
    "              loss='categorical_crossentropy', \n",
    "              metrics=['accuracy'])"
   ]
  },
  {
   "cell_type": "code",
   "execution_count": 93,
   "id": "864df6c7-7980-4cab-803b-48a3f7308953",
   "metadata": {},
   "outputs": [
    {
     "data": {
      "text/plain": [
       "{0: 3.3583959899749374,\n",
       " 1: 13.453815261044177,\n",
       " 2: 24.542124542124544,\n",
       " 3: 0.19297790834989487,\n",
       " 4: 0.642131493195323,\n",
       " 5: 1.1860506284298107,\n",
       " 6: 1.4869063470927653,\n",
       " 7: 4.834054834054834,\n",
       " 8: 7.976190476190476}"
      ]
     },
     "execution_count": 93,
     "metadata": {},
     "output_type": "execute_result"
    }
   ],
   "source": [
    "from sklearn.utils import class_weight\n",
    "class_weights = class_weight.compute_class_weight('balanced',\n",
    "                                                  classes=np.unique(y_train_NoOHC),\n",
    "                                                  y=y_train_NoOHC)\n",
    "class_weight_dict = dict(enumerate(class_weights))\n",
    "class_weight_dict"
   ]
  },
  {
   "cell_type": "code",
   "execution_count": 94,
   "id": "cb316e3e-7ba1-4b82-9335-efc28d3170ac",
   "metadata": {},
   "outputs": [
    {
     "name": "stdout",
     "output_type": "stream",
     "text": [
      "Epoch 1/50\n",
      "629/629 [==============================] - 5s 6ms/step - loss: 2.1559 - accuracy: 0.1650 - val_loss: 2.1166 - val_accuracy: 0.1775\n",
      "Epoch 2/50\n",
      "629/629 [==============================] - 4s 6ms/step - loss: 2.0392 - accuracy: 0.1617 - val_loss: 2.0359 - val_accuracy: 0.1739\n",
      "Epoch 3/50\n",
      "629/629 [==============================] - 4s 6ms/step - loss: 1.9192 - accuracy: 0.1818 - val_loss: 2.0268 - val_accuracy: 0.1663\n",
      "Epoch 4/50\n",
      "629/629 [==============================] - 4s 6ms/step - loss: 1.7724 - accuracy: 0.1890 - val_loss: 2.0546 - val_accuracy: 0.2025\n",
      "Epoch 5/50\n",
      "629/629 [==============================] - 4s 6ms/step - loss: 1.5661 - accuracy: 0.2205 - val_loss: 2.0267 - val_accuracy: 0.1584\n",
      "Epoch 6/50\n",
      "629/629 [==============================] - 4s 6ms/step - loss: 1.3424 - accuracy: 0.2565 - val_loss: 1.9753 - val_accuracy: 0.2242\n",
      "Epoch 7/50\n",
      "629/629 [==============================] - 4s 6ms/step - loss: 1.1635 - accuracy: 0.2932 - val_loss: 2.1281 - val_accuracy: 0.1940\n",
      "Epoch 8/50\n",
      "629/629 [==============================] - 4s 6ms/step - loss: 1.0101 - accuracy: 0.3316 - val_loss: 1.9659 - val_accuracy: 0.2465\n",
      "Epoch 9/50\n",
      "629/629 [==============================] - 4s 6ms/step - loss: 0.8685 - accuracy: 0.3696 - val_loss: 2.0735 - val_accuracy: 0.2314\n",
      "Epoch 10/50\n",
      "629/629 [==============================] - 4s 6ms/step - loss: 0.7602 - accuracy: 0.4020 - val_loss: 1.9741 - val_accuracy: 0.2821\n",
      "Epoch 11/50\n",
      "629/629 [==============================] - 4s 6ms/step - loss: 0.6594 - accuracy: 0.4448 - val_loss: 1.8945 - val_accuracy: 0.3661\n",
      "Epoch 12/50\n",
      "629/629 [==============================] - 5s 8ms/step - loss: 0.6538 - accuracy: 0.4624 - val_loss: 2.0552 - val_accuracy: 0.2971\n",
      "Epoch 13/50\n",
      "629/629 [==============================] - 4s 7ms/step - loss: 0.5428 - accuracy: 0.5044 - val_loss: 2.1789 - val_accuracy: 0.2955\n",
      "Epoch 14/50\n",
      "629/629 [==============================] - 4s 6ms/step - loss: 0.4504 - accuracy: 0.5523 - val_loss: 2.2715 - val_accuracy: 0.3154\n",
      "Epoch 15/50\n",
      "629/629 [==============================] - 5s 7ms/step - loss: 0.3930 - accuracy: 0.5961 - val_loss: 2.2827 - val_accuracy: 0.3217\n",
      "Epoch 16/50\n",
      "629/629 [==============================] - 7s 12ms/step - loss: 0.3357 - accuracy: 0.6383 - val_loss: 2.4685 - val_accuracy: 0.3193\n",
      "Epoch 17/50\n",
      "629/629 [==============================] - 5s 7ms/step - loss: 0.3383 - accuracy: 0.6552 - val_loss: 2.4935 - val_accuracy: 0.3380\n",
      "Epoch 18/50\n",
      "629/629 [==============================] - 4s 6ms/step - loss: 0.3222 - accuracy: 0.6694 - val_loss: 2.5731 - val_accuracy: 0.3486\n",
      "Epoch 19/50\n",
      "629/629 [==============================] - 4s 6ms/step - loss: 0.2691 - accuracy: 0.7119 - val_loss: 2.6907 - val_accuracy: 0.3532\n",
      "Epoch 20/50\n",
      "629/629 [==============================] - 4s 6ms/step - loss: 0.2229 - accuracy: 0.7507 - val_loss: 2.7357 - val_accuracy: 0.3760\n",
      "Epoch 21/50\n",
      "629/629 [==============================] - 4s 6ms/step - loss: 0.1935 - accuracy: 0.7795 - val_loss: 2.8532 - val_accuracy: 0.3868\n",
      "Epoch 22/50\n",
      "629/629 [==============================] - 4s 6ms/step - loss: 0.2231 - accuracy: 0.7739 - val_loss: 2.8277 - val_accuracy: 0.3912\n",
      "Epoch 23/50\n",
      "629/629 [==============================] - 4s 6ms/step - loss: 0.2182 - accuracy: 0.7858 - val_loss: 2.9708 - val_accuracy: 0.3872\n",
      "Epoch 24/50\n",
      "629/629 [==============================] - 4s 7ms/step - loss: 0.2416 - accuracy: 0.7697 - val_loss: 3.0087 - val_accuracy: 0.3848\n",
      "Epoch 25/50\n",
      "629/629 [==============================] - 5s 8ms/step - loss: 0.1809 - accuracy: 0.8178 - val_loss: 3.1281 - val_accuracy: 0.4079\n",
      "Epoch 26/50\n",
      "629/629 [==============================] - 4s 6ms/step - loss: 0.1143 - accuracy: 0.8750 - val_loss: 3.1941 - val_accuracy: 0.4335\n",
      "Epoch 27/50\n",
      "629/629 [==============================] - 5s 7ms/step - loss: 0.0857 - accuracy: 0.9090 - val_loss: 3.4208 - val_accuracy: 0.4282\n",
      "Epoch 28/50\n",
      "629/629 [==============================] - 4s 7ms/step - loss: 0.0795 - accuracy: 0.9258 - val_loss: 3.5123 - val_accuracy: 0.4331\n",
      "Epoch 29/50\n",
      "629/629 [==============================] - 4s 6ms/step - loss: 0.0646 - accuracy: 0.9382 - val_loss: 3.7493 - val_accuracy: 0.4630\n",
      "Epoch 30/50\n",
      "629/629 [==============================] - 4s 6ms/step - loss: 0.2115 - accuracy: 0.8226 - val_loss: 3.5378 - val_accuracy: 0.3766\n",
      "Epoch 31/50\n",
      "629/629 [==============================] - 5s 7ms/step - loss: 0.1754 - accuracy: 0.8424 - val_loss: 3.5520 - val_accuracy: 0.4121\n",
      "Epoch 32/50\n",
      "629/629 [==============================] - 4s 6ms/step - loss: 0.0915 - accuracy: 0.9131 - val_loss: 3.7115 - val_accuracy: 0.4395\n",
      "Epoch 33/50\n",
      "629/629 [==============================] - 4s 6ms/step - loss: 0.0423 - accuracy: 0.9636 - val_loss: 3.8397 - val_accuracy: 0.4706\n",
      "Epoch 34/50\n",
      "629/629 [==============================] - 4s 6ms/step - loss: 0.0308 - accuracy: 0.9816 - val_loss: 4.0523 - val_accuracy: 0.4546\n",
      "Epoch 35/50\n",
      "629/629 [==============================] - 4s 6ms/step - loss: 0.0310 - accuracy: 0.9810 - val_loss: 4.2245 - val_accuracy: 0.4743\n",
      "Epoch 36/50\n",
      "629/629 [==============================] - 4s 6ms/step - loss: 0.1061 - accuracy: 0.9290 - val_loss: 4.3071 - val_accuracy: 0.3512\n",
      "Epoch 37/50\n",
      "629/629 [==============================] - 4s 6ms/step - loss: 0.3149 - accuracy: 0.7733 - val_loss: 3.9244 - val_accuracy: 0.3822\n",
      "Epoch 38/50\n",
      "629/629 [==============================] - 4s 6ms/step - loss: 0.1462 - accuracy: 0.8812 - val_loss: 4.1032 - val_accuracy: 0.3934\n",
      "Epoch 39/50\n",
      "629/629 [==============================] - 4s 6ms/step - loss: 0.0702 - accuracy: 0.9333 - val_loss: 4.2546 - val_accuracy: 0.4401\n",
      "Epoch 40/50\n",
      "629/629 [==============================] - 4s 6ms/step - loss: 0.1001 - accuracy: 0.9487 - val_loss: 4.5194 - val_accuracy: 0.4312\n",
      "Epoch 41/50\n",
      "629/629 [==============================] - 4s 6ms/step - loss: 0.0558 - accuracy: 0.9499 - val_loss: 4.4276 - val_accuracy: 0.4674\n",
      "Epoch 42/50\n",
      "629/629 [==============================] - 4s 6ms/step - loss: 0.0245 - accuracy: 0.9845 - val_loss: 4.5366 - val_accuracy: 0.4660\n",
      "Epoch 43/50\n",
      "629/629 [==============================] - 4s 6ms/step - loss: 0.0134 - accuracy: 0.9942 - val_loss: 4.7472 - val_accuracy: 0.4835\n",
      "Epoch 44/50\n",
      "629/629 [==============================] - 4s 6ms/step - loss: 0.0161 - accuracy: 0.9903 - val_loss: 4.8643 - val_accuracy: 0.4578\n",
      "Epoch 45/50\n",
      "629/629 [==============================] - 4s 6ms/step - loss: 0.0137 - accuracy: 0.9916 - val_loss: 5.0433 - val_accuracy: 0.4644\n",
      "Epoch 46/50\n",
      "629/629 [==============================] - 4s 6ms/step - loss: 0.1452 - accuracy: 0.9038 - val_loss: 4.6261 - val_accuracy: 0.3822\n",
      "Epoch 47/50\n",
      "629/629 [==============================] - 6s 9ms/step - loss: 0.1772 - accuracy: 0.8580 - val_loss: 4.7309 - val_accuracy: 0.3750\n",
      "Epoch 48/50\n",
      "629/629 [==============================] - 5s 8ms/step - loss: 0.0825 - accuracy: 0.9330 - val_loss: 4.8386 - val_accuracy: 0.4025\n",
      "Epoch 49/50\n",
      "629/629 [==============================] - 4s 6ms/step - loss: 0.0373 - accuracy: 0.9730 - val_loss: 4.9407 - val_accuracy: 0.4517\n",
      "Epoch 50/50\n",
      "629/629 [==============================] - 4s 6ms/step - loss: 0.0129 - accuracy: 0.9950 - val_loss: 5.1943 - val_accuracy: 0.4737\n"
     ]
    }
   ],
   "source": [
    "history2 = model2.fit(X_train, y_train, \n",
    "                    validation_data=(X_test, y_test),\n",
    "                    batch_size=32, \n",
    "                    epochs=50, \n",
    "                    class_weight=class_weight_dict)"
   ]
  },
  {
   "cell_type": "code",
   "execution_count": 95,
   "id": "07c34905-2ff3-49e7-a652-9e1b0e21e5d4",
   "metadata": {},
   "outputs": [
    {
     "name": "stdout",
     "output_type": "stream",
     "text": [
      "158/158 [==============================] - 1s 5ms/step - loss: 5.1943 - accuracy: 0.4737\n",
      "Test accuracy: 0.47373658418655396\n",
      "158/158 [==============================] - 1s 4ms/step\n"
     ]
    }
   ],
   "source": [
    "loss, accuracy = model2.evaluate(X_test, y_test)\n",
    "print(f'Test accuracy: {accuracy}')\n",
    "\n",
    "y_pred = model2.predict(X_test)\n",
    "y_pred = np.argmax(y_pred, axis=1)"
   ]
  },
  {
   "cell_type": "code",
   "execution_count": null,
   "id": "202f0832-aa84-405b-8777-3c2534f8ec4e",
   "metadata": {},
   "outputs": [],
   "source": []
  }
 ],
 "metadata": {
  "kernelspec": {
   "display_name": "myenv",
   "language": "python",
   "name": "myenv"
  },
  "language_info": {
   "codemirror_mode": {
    "name": "ipython",
    "version": 3
   },
   "file_extension": ".py",
   "mimetype": "text/x-python",
   "name": "python",
   "nbconvert_exporter": "python",
   "pygments_lexer": "ipython3",
   "version": "3.9.15"
  }
 },
 "nbformat": 4,
 "nbformat_minor": 5
}
