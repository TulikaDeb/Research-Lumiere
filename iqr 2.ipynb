{
 "cells": [
  {
   "cell_type": "code",
   "execution_count": 3,
   "id": "bdca425e-c2d3-49f2-b3b7-64c463a7bc27",
   "metadata": {},
   "outputs": [],
   "source": [
    "import pandas as pd"
   ]
  },
  {
   "cell_type": "code",
   "execution_count": 35,
   "id": "0f3b49a8-66d6-4c9a-81ee-30f2c31feb2b",
   "metadata": {},
   "outputs": [
    {
     "data": {
      "text/plain": [
       "<bound method NDFrame.head of        severity_class  ev_year_1.0  ev_year_2.0  ev_year_3.0  ev_year_4.0  \\\n",
       "0                   1          1.0          0.0          0.0          0.0   \n",
       "1                   4          1.0          0.0          0.0          0.0   \n",
       "2                   5          1.0          0.0          0.0          0.0   \n",
       "3                   4          1.0          0.0          0.0          0.0   \n",
       "4                   4          1.0          0.0          0.0          0.0   \n",
       "...               ...          ...          ...          ...          ...   \n",
       "27398               4          NaN          NaN          NaN          NaN   \n",
       "27399               4          NaN          NaN          NaN          NaN   \n",
       "27400               4          NaN          NaN          NaN          NaN   \n",
       "27401               1          NaN          NaN          NaN          NaN   \n",
       "27402               4          NaN          NaN          NaN          NaN   \n",
       "\n",
       "       ev_year_5.0  ev_year_6.0  ev_year_7.0  ev_year_8.0  ev_year_9.0  ...  \\\n",
       "0              0.0          0.0          0.0          0.0          0.0  ...   \n",
       "1              0.0          0.0          0.0          0.0          0.0  ...   \n",
       "2              0.0          0.0          0.0          0.0          0.0  ...   \n",
       "3              0.0          0.0          0.0          0.0          0.0  ...   \n",
       "4              0.0          0.0          0.0          0.0          0.0  ...   \n",
       "...            ...          ...          ...          ...          ...  ...   \n",
       "27398          NaN          NaN          NaN          NaN          NaN  ...   \n",
       "27399          NaN          NaN          NaN          NaN          NaN  ...   \n",
       "27400          NaN          NaN          NaN          NaN          NaN  ...   \n",
       "27401          NaN          NaN          NaN          NaN          NaN  ...   \n",
       "27402          NaN          NaN          NaN          NaN          NaN  ...   \n",
       "\n",
       "       wind_dir_deg  wind_vel_kts  gust_kts  altimeter  dec_latitude  \\\n",
       "0         -0.331967      0.739304 -0.238516  -0.000300     -0.010371   \n",
       "1          1.958724      1.941170  1.571597   0.002565     -0.010394   \n",
       "2          0.404326      2.181543 -0.238516   0.002699     -0.010378   \n",
       "3          0.240706     -0.462563 -0.238516   0.000167     -0.010366   \n",
       "4          0.322516     -0.462563 -0.238516   0.000367     -0.010372   \n",
       "...             ...           ...       ...        ...           ...   \n",
       "27398           NaN           NaN       NaN        NaN           NaN   \n",
       "27399           NaN           NaN       NaN        NaN           NaN   \n",
       "27400           NaN           NaN       NaN        NaN           NaN   \n",
       "27401           NaN           NaN       NaN        NaN           NaN   \n",
       "27402           NaN           NaN       NaN        NaN           NaN   \n",
       "\n",
       "       dec_longitude  cert_max_gr_wt  afm_hrs_last_insp   afm_hrs  crew_age  \n",
       "0          -0.003129       -0.129643          -0.005586 -0.038301  0.226406  \n",
       "1          -0.001359       -0.139836          -0.006595 -0.177956  1.108107  \n",
       "2          -0.001501       -0.119218          -0.006595 -0.168222  0.100449  \n",
       "3          -0.001984        0.044571          -0.006595 -0.093278  0.415342  \n",
       "4          -0.000185       -0.146555          -0.006595  0.125984 -1.033166  \n",
       "...              ...             ...                ...       ...       ...  \n",
       "27398            NaN             NaN                NaN       NaN       NaN  \n",
       "27399            NaN             NaN                NaN       NaN       NaN  \n",
       "27400            NaN             NaN                NaN       NaN       NaN  \n",
       "27401            NaN             NaN                NaN       NaN       NaN  \n",
       "27402            NaN             NaN                NaN       NaN       NaN  \n",
       "\n",
       "[27403 rows x 159 columns]>"
      ]
     },
     "execution_count": 35,
     "metadata": {},
     "output_type": "execute_result"
    }
   ],
   "source": [
    "df=pd.read_csv('Finaldataset.csv')\n",
    "df.head"
   ]
  },
  {
   "cell_type": "code",
   "execution_count": 5,
   "id": "78aaef7d-05a8-49b0-8aa3-319243515da7",
   "metadata": {},
   "outputs": [
    {
     "name": "stdout",
     "output_type": "stream",
     "text": [
      "       severity_class   ev_year_1.0   ev_year_2.0   ev_year_3.0   ev_year_4.0  \\\n",
      "count    27403.000000  25126.000000  25126.000000  25126.000000  25126.000000   \n",
      "mean         4.625698      0.071161      0.068057      0.068813      0.070604   \n",
      "std          1.368654      0.257099      0.251849      0.253141      0.256168   \n",
      "min          1.000000      0.000000      0.000000      0.000000      0.000000   \n",
      "25%          4.000000      0.000000      0.000000      0.000000      0.000000   \n",
      "50%          4.000000      0.000000      0.000000      0.000000      0.000000   \n",
      "75%          5.000000      0.000000      0.000000      0.000000      0.000000   \n",
      "max          9.000000      1.000000      1.000000      1.000000      1.000000   \n",
      "\n",
      "        ev_year_5.0   ev_year_6.0   ev_year_7.0   ev_year_8.0   ev_year_9.0  \\\n",
      "count  25126.000000  25126.000000  25126.000000  25126.000000  25126.000000   \n",
      "mean       0.070047      0.059341      0.057470      0.056913      0.055242   \n",
      "std        0.255231      0.236266      0.232744      0.231681      0.228456   \n",
      "min        0.000000      0.000000      0.000000      0.000000      0.000000   \n",
      "25%        0.000000      0.000000      0.000000      0.000000      0.000000   \n",
      "50%        0.000000      0.000000      0.000000      0.000000      0.000000   \n",
      "75%        0.000000      0.000000      0.000000      0.000000      0.000000   \n",
      "max        1.000000      1.000000      1.000000      1.000000      1.000000   \n",
      "\n",
      "       ...  wind_dir_deg  wind_vel_kts      gust_kts     altimeter  \\\n",
      "count  ...  25126.000000  25126.000000  25126.000000  25126.000000   \n",
      "mean   ...      0.004875      0.002896      0.002737     -0.000905   \n",
      "std    ...      0.999901      1.004445      1.028016      0.982419   \n",
      "min    ...     -0.986451     -1.664429     -0.238516     -0.201435   \n",
      "25%    ...     -0.986451     -0.462563     -0.238516     -0.005096   \n",
      "50%    ...     -0.168347     -0.462563     -0.238516     -0.001898   \n",
      "75%    ...      0.895189      0.258557     -0.238516     -0.000899   \n",
      "max    ...     15.375633     39.199025     90.176618     20.018726   \n",
      "\n",
      "       dec_latitude  dec_longitude  cert_max_gr_wt  afm_hrs_last_insp  \\\n",
      "count  25126.000000   25126.000000    25126.000000       25126.000000   \n",
      "mean      -0.005832      -0.001843        0.005383           0.000526   \n",
      "std        0.695914       0.997659        1.027317           1.044346   \n",
      "min       -0.010664     -65.898017       -0.185173          -0.007059   \n",
      "25%       -0.010384      -0.002449       -0.134276          -0.006595   \n",
      "50%       -0.010376      -0.001418       -0.131960          -0.006595   \n",
      "75%       -0.010362      -0.000493       -0.116901          -0.006582   \n",
      "max      110.287576      48.705640       22.749776         165.527861   \n",
      "\n",
      "            afm_hrs      crew_age  \n",
      "count  25126.000000  25126.000000  \n",
      "mean      -0.003548     -0.029571  \n",
      "std        0.535409      1.018835  \n",
      "min       -0.196761     -3.300396  \n",
      "25%       -0.196761     -0.781251  \n",
      "50%       -0.143167      0.100449  \n",
      "75%        0.042456      0.730235  \n",
      "max       39.925574      8.098732  \n",
      "\n",
      "[8 rows x 159 columns]\n"
     ]
    }
   ],
   "source": [
    "from scipy import stats\n",
    "print(df.describe())"
   ]
  },
  {
   "cell_type": "code",
   "execution_count": 6,
   "id": "f66b1b83-4528-4963-855d-e5c39e0474fd",
   "metadata": {},
   "outputs": [
    {
     "name": "stdout",
     "output_type": "stream",
     "text": [
      "Data after removing outliers using IQR method:\n",
      "        severity_class  ev_year_1.0  ev_year_2.0  ev_year_3.0  ev_year_4.0  \\\n",
      "4                   4          1.0          0.0          0.0          0.0   \n",
      "15                  2          1.0          0.0          0.0          0.0   \n",
      "43                  4          1.0          0.0          0.0          0.0   \n",
      "49                  5          1.0          0.0          0.0          0.0   \n",
      "53                  5          1.0          0.0          0.0          0.0   \n",
      "...               ...          ...          ...          ...          ...   \n",
      "27398               4          NaN          NaN          NaN          NaN   \n",
      "27399               4          NaN          NaN          NaN          NaN   \n",
      "27400               4          NaN          NaN          NaN          NaN   \n",
      "27401               1          NaN          NaN          NaN          NaN   \n",
      "27402               4          NaN          NaN          NaN          NaN   \n",
      "\n",
      "       ev_year_5.0  ev_year_6.0  ev_year_7.0  ev_year_8.0  ev_year_9.0  ...  \\\n",
      "4              0.0          0.0          0.0          0.0          0.0  ...   \n",
      "15             0.0          0.0          0.0          0.0          0.0  ...   \n",
      "43             0.0          0.0          0.0          0.0          0.0  ...   \n",
      "49             0.0          0.0          0.0          0.0          0.0  ...   \n",
      "53             0.0          0.0          0.0          0.0          0.0  ...   \n",
      "...            ...          ...          ...          ...          ...  ...   \n",
      "27398          NaN          NaN          NaN          NaN          NaN  ...   \n",
      "27399          NaN          NaN          NaN          NaN          NaN  ...   \n",
      "27400          NaN          NaN          NaN          NaN          NaN  ...   \n",
      "27401          NaN          NaN          NaN          NaN          NaN  ...   \n",
      "27402          NaN          NaN          NaN          NaN          NaN  ...   \n",
      "\n",
      "       wind_dir_deg  wind_vel_kts  gust_kts  altimeter  dec_latitude  \\\n",
      "4          0.322516     -0.462563 -0.238516   0.000367     -0.010372   \n",
      "15        -0.986451     -0.462563 -0.238516  -0.001166     -0.010382   \n",
      "43         1.304241      0.018184 -0.238516  -0.001232     -0.010383   \n",
      "49         1.222431      0.018184 -0.238516  -0.002232     -0.010383   \n",
      "53         1.304241     -0.222189 -0.238516  -0.001232     -0.010365   \n",
      "...             ...           ...       ...        ...           ...   \n",
      "27398           NaN           NaN       NaN        NaN           NaN   \n",
      "27399           NaN           NaN       NaN        NaN           NaN   \n",
      "27400           NaN           NaN       NaN        NaN           NaN   \n",
      "27401           NaN           NaN       NaN        NaN           NaN   \n",
      "27402           NaN           NaN       NaN        NaN           NaN   \n",
      "\n",
      "       dec_longitude  cert_max_gr_wt  afm_hrs_last_insp   afm_hrs  crew_age  \n",
      "4          -0.000185       -0.146555          -0.006595  0.125984 -1.033166  \n",
      "15         -0.002788       -0.131960          -0.006595 -0.196761  0.982150  \n",
      "43         -0.000626       -0.131960          -0.006595 -0.196761  0.793214  \n",
      "49         -0.002812       -0.104159          -0.006595 -0.034650  1.611936  \n",
      "53         -0.001444       -0.131960          -0.006595 -0.196761 -1.788909  \n",
      "...              ...             ...                ...       ...       ...  \n",
      "27398            NaN             NaN                NaN       NaN       NaN  \n",
      "27399            NaN             NaN                NaN       NaN       NaN  \n",
      "27400            NaN             NaN                NaN       NaN       NaN  \n",
      "27401            NaN             NaN                NaN       NaN       NaN  \n",
      "27402            NaN             NaN                NaN       NaN       NaN  \n",
      "\n",
      "[5136 rows x 159 columns]\n"
     ]
    }
   ],
   "source": [
    "column_names = ['ev_time', 'apt_dist', 'apt_elev', 'sky_nonceil_ht', 'sky_ceil_ht', 'vis_sm', 'wx_temp', \n",
    "                'wx_dew_pt', 'wind_dir_deg', 'wind_vel_kts', 'gust_kts', 'altimeter', 'dec_latitude', \n",
    "                'dec_longitude', 'cert_max_gr_wt', 'afm_hrs_last_insp', 'afm_hrs', 'crew_age']\n",
    "Q1 = df[column_names].quantile(0.25)  # 1st quartile (25th percentile)\n",
    "Q3 = df[column_names].quantile(0.75)  # 3rd quartile (75th percentile)\n",
    "IQR = Q3 - Q1 \n",
    "lower_bound = Q1 - 1.5 * IQR\n",
    "upper_bound = Q3 + 1.5 * IQR\n",
    "\n",
    "df_no_outliers_iqr = df[~((df[column_names] < lower_bound) | (df[column_names] > upper_bound)).any(axis=1)]\n",
    "print(\"Data after removing outliers using IQR method:\\n\", df_no_outliers_iqr)"
   ]
  },
  {
   "cell_type": "code",
   "execution_count": 7,
   "id": "cb4a144e-a82d-4148-a360-f04d6a404463",
   "metadata": {},
   "outputs": [],
   "source": [
    "x=df.drop(['severity_class'],axis=1)\n",
    "y=df['severity_class']"
   ]
  },
  {
   "cell_type": "code",
   "execution_count": 8,
   "id": "31fe44d5-742a-491a-90d2-546543efdb63",
   "metadata": {},
   "outputs": [
    {
     "data": {
      "text/plain": [
       "severity_class\n",
       "4    15725\n",
       "5     4820\n",
       "6     2531\n",
       "7     2065\n",
       "1      907\n",
       "8      640\n",
       "9      363\n",
       "2      233\n",
       "3      119\n",
       "Name: count, dtype: int64"
      ]
     },
     "execution_count": 8,
     "metadata": {},
     "output_type": "execute_result"
    }
   ],
   "source": [
    "y.value_counts()"
   ]
  },
  {
   "cell_type": "code",
   "execution_count": 9,
   "id": "2103d7be-4de4-49fa-b02f-1b7353252aba",
   "metadata": {},
   "outputs": [],
   "source": [
    "import matplotlib.pyplot as plt"
   ]
  },
  {
   "cell_type": "code",
   "execution_count": 10,
   "id": "e90a196b-13dc-4e77-bc24-f9e96f5aab87",
   "metadata": {},
   "outputs": [
    {
     "data": {
      "text/plain": [
       "<Axes: ylabel='count'>"
      ]
     },
     "execution_count": 10,
     "metadata": {},
     "output_type": "execute_result"
    },
    {
     "data": {
      "image/png": "[encoded data removed]",
      "text/plain": [
       "<Figure size 640x480 with 1 Axes>"
      ]
     },
     "metadata": {},
     "output_type": "display_data"
    }
   ],
   "source": [
    "y.value_counts().plot.pie(autopct='#.2f')"
   ]
  },
  {
   "cell_type": "code",
   "execution_count": 13,
   "id": "a6c1d88c-9084-432d-b1ab-cd404b293185",
   "metadata": {},
   "outputs": [
    {
     "name": "stdout",
     "output_type": "stream",
     "text": [
      "severity_class\n",
      "4    2000\n",
      "5    1500\n",
      "6    1200\n",
      "7    1000\n",
      "1     907\n",
      "8     640\n",
      "9     363\n",
      "2     233\n",
      "3     119\n",
      "Name: count, dtype: int64\n"
     ]
    }
   ],
   "source": [
    "from imblearn.under_sampling import RandomUnderSampler\n",
    "sampling_strategy = {\n",
    "    1: 907,   # Class '1' will keep 907 samples\n",
    "    2: 233,   # Class '2' will keep 233 samples\n",
    "    3: 119,   # Class '3' will keep 119 samples\n",
    "    4: 2000,  # Class '4' will reduce to 2000 samples\n",
    "    5: 1500,  # Class '5' will reduce to 1500 samples\n",
    "    6: 1200,  # Class '6' will reduce to 1200 samples\n",
    "    7: 1000,  # Class '7' will reduce to 1000 samples\n",
    "    8: 640,   # Class '8' will keep 640 samples\n",
    "    9: 363    # Class '9' will keep 363 samples\n",
    "}\n",
    "rus = RandomUnderSampler(sampling_strategy=sampling_strategy)\n",
    "x_resampled, y_resampled = rus.fit_resample(x, y)\n",
    "print(pd.Series(y_resampled).value_counts())"
   ]
  },
  {
   "cell_type": "code",
   "execution_count": 36,
   "id": "3bc9502c-8a73-476e-8640-a2621f5c57f9",
   "metadata": {},
   "outputs": [
    {
     "name": "stdout",
     "output_type": "stream",
     "text": [
      "Data saved to data.csv\n"
     ]
    }
   ],
   "source": [
    "output_filename='data.csv'\n",
    "df.to_csv(output_filename, index=False)\n",
    "print(f\"Data saved to {output_filename}\")"
   ]
  },
  {
   "cell_type": "code",
   "execution_count": null,
   "id": "4ca11533-bcb6-422a-adab-3ce700cc723e",
   "metadata": {},
   "outputs": [],
   "source": []
  }
 ],
 "metadata": {
  "kernelspec": {
   "display_name": "myenv",
   "language": "python",
   "name": "myenv"
  },
  "language_info": {
   "codemirror_mode": {
    "name": "ipython",
    "version": 3
   },
   "file_extension": ".py",
   "mimetype": "text/x-python",
   "name": "python",
   "nbconvert_exporter": "python",
   "pygments_lexer": "ipython3",
   "version": "3.9.15"
  }
 },
 "nbformat": 4,
 "nbformat_minor": 5
}
