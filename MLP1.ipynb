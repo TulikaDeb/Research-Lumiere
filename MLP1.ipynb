{
 "cells": [
  {
   "cell_type": "code",
   "execution_count": 12,
   "id": "7e862f57-b738-4927-bf06-988cbb17e4ff",
   "metadata": {},
   "outputs": [],
   "source": [
    "import pandas as pd\n",
    "import numpy as np\n",
    "from tensorflow.keras.models import Sequential\n",
    "from tensorflow.keras.layers import Dense, Flatten"
   ]
  },
  {
   "cell_type": "code",
   "execution_count": 13,
   "id": "cc247211-9b61-4c94-ae6b-f3fe99a661b1",
   "metadata": {},
   "outputs": [
    {
     "name": "stderr",
     "output_type": "stream",
     "text": [
      "C:\\Users\\Tanushree\\AppData\\Local\\Temp\\ipykernel_9632\\3703839409.py:2: DtypeWarning: Columns (0) have mixed types. Specify dtype option on import or set low_memory=False.\n",
      "  df = pd.read_csv('final_data_new.csv')\n"
     ]
    }
   ],
   "source": [
    "from sklearn.model_selection import train_test_split\n",
    "df = pd.read_csv('final_data_new.csv')\n",
    "\n",
    "y = df.iloc[:, 1:10]\n",
    "X = df.iloc[:, 10:]\n",
    "X_train, X_test, y_train, y_test = train_test_split(X, y, test_size=0.2, random_state=42)\n",
    "\n",
    "y_train_NoOHC = np.argmax(y_train.values, axis=1)\n",
    "y_test_NoOHC = np.argmax(y_test.values, axis=1)"
   ]
  },
  {
   "cell_type": "code",
   "execution_count": 14,
   "id": "6cb3d702-2612-400f-830f-af2040511837",
   "metadata": {},
   "outputs": [
    {
     "data": {
      "text/plain": [
       "194"
      ]
     },
     "execution_count": 14,
     "metadata": {},
     "output_type": "execute_result"
    }
   ],
   "source": [
    "N_features = X_train.shape[1]\n",
    "X_train.shape[1]"
   ]
  },
  {
   "cell_type": "code",
   "execution_count": 15,
   "id": "91c2b5bd-6dde-4f65-8626-6cbb05ff2ec1",
   "metadata": {},
   "outputs": [],
   "source": [
    "model1 = Sequential()\n",
    "model1.add(Dense(512, input_shape=(N_features,), activation='relu'))\n",
    "model1.add(Dense(256, activation='relu'))\n",
    "model1.add(Dense(9, activation='softmax')) "
   ]
  },
  {
   "cell_type": "code",
   "execution_count": 16,
   "id": "77a75dff-c783-42e7-8fab-3b8d14dd5d33",
   "metadata": {},
   "outputs": [],
   "source": [
    "model1.compile(optimizer='adam', \n",
    "              loss='categorical_crossentropy', \n",
    "              metrics=['accuracy'])"
   ]
  },
  {
   "cell_type": "code",
   "execution_count": 17,
   "id": "84b6e9c4-100f-4495-8e45-50fdfa9e7046",
   "metadata": {},
   "outputs": [
    {
     "name": "stdout",
     "output_type": "stream",
     "text": [
      "Epoch 1/10\n",
      "629/629 [==============================] - 3s 4ms/step - loss: 1.3062 - accuracy: 0.5844 - val_loss: 1.2921 - val_accuracy: 0.5838\n",
      "Epoch 2/10\n",
      "629/629 [==============================] - 2s 4ms/step - loss: 1.2550 - accuracy: 0.5921 - val_loss: 1.2808 - val_accuracy: 0.5808\n",
      "Epoch 3/10\n",
      "629/629 [==============================] - 2s 4ms/step - loss: 1.2298 - accuracy: 0.5944 - val_loss: 1.2852 - val_accuracy: 0.5820\n",
      "Epoch 4/10\n",
      "629/629 [==============================] - 2s 4ms/step - loss: 1.1950 - accuracy: 0.5989 - val_loss: 1.2916 - val_accuracy: 0.5814\n",
      "Epoch 5/10\n",
      "629/629 [==============================] - 2s 4ms/step - loss: 1.1487 - accuracy: 0.6048 - val_loss: 1.3373 - val_accuracy: 0.5760\n",
      "Epoch 6/10\n",
      "629/629 [==============================] - 2s 4ms/step - loss: 1.0827 - accuracy: 0.6215 - val_loss: 1.3663 - val_accuracy: 0.5696\n",
      "Epoch 7/10\n",
      "629/629 [==============================] - 2s 4ms/step - loss: 1.0002 - accuracy: 0.6417 - val_loss: 1.4289 - val_accuracy: 0.5505\n",
      "Epoch 8/10\n",
      "629/629 [==============================] - 2s 4ms/step - loss: 0.9081 - accuracy: 0.6733 - val_loss: 1.5351 - val_accuracy: 0.5454\n",
      "Epoch 9/10\n",
      "629/629 [==============================] - 2s 4ms/step - loss: 0.8097 - accuracy: 0.7071 - val_loss: 1.6659 - val_accuracy: 0.5257\n",
      "Epoch 10/10\n",
      "629/629 [==============================] - 2s 4ms/step - loss: 0.7092 - accuracy: 0.7431 - val_loss: 1.7868 - val_accuracy: 0.5223\n"
     ]
    }
   ],
   "source": [
    "history = model1.fit(X_train, y_train,\n",
    "                    validation_data=(X_test, y_test),\n",
    "                    epochs=10,\n",
    "                    batch_size=32)"
   ]
  },
  {
   "cell_type": "code",
   "execution_count": 18,
   "id": "fdb80d0a-fb5e-4731-a3f7-6b5be263059c",
   "metadata": {},
   "outputs": [
    {
     "name": "stdout",
     "output_type": "stream",
     "text": [
      "158/158 [==============================] - 0s 2ms/step - loss: 1.7868 - accuracy: 0.5223\n",
      "Test accuracy: 0.5222841501235962\n",
      "158/158 [==============================] - 0s 2ms/step\n"
     ]
    }
   ],
   "source": [
    "loss, accuracy = model1.evaluate(X_test, y_test)\n",
    "print(f'Test accuracy: {accuracy}')\n",
    "\n",
    "y_pred = model1.predict(X_test)\n",
    "y_pred = np.argmax(y_pred, axis=1)"
   ]
  },
  {
   "cell_type": "code",
   "execution_count": 19,
   "id": "2c6ab9e9-b5a2-412b-9300-0c0dfa4970c8",
   "metadata": {},
   "outputs": [
    {
     "name": "stdout",
     "output_type": "stream",
     "text": [
      "Balanced Accuracy: 0.1394162656426658\n",
      "Weighted F1 Score: 0.46388020709793104\n",
      "Accuracy: 0.5222841225626741\n",
      "Weighted_recall: 0.1394162656426658\n",
      "Weighted_precision: 0.1394162656426658\n"
     ]
    }
   ],
   "source": [
    "import numpy as np\n",
    "from sklearn.metrics import balanced_accuracy_score\n",
    "from sklearn.metrics import f1_score, accuracy_score\n",
    "from sklearn.metrics import recall_score, precision_score\n",
    "balanced_accuracy = balanced_accuracy_score(y_test_NoOHC, y_pred)\n",
    "weighted_f1_score = f1_score(y_test_NoOHC, y_pred, average='weighted')\n",
    "accuracy = accuracy_score(y_test_NoOHC, y_pred)\n",
    "weighted_recall_score = recall_score(y_test_NoOHC, y_pred, average='weighted')\n",
    "weighted_precision_score = precision_score(y_test_NoOHC, y_pred, average='weighted')\n",
    "\n",
    "print(f'Balanced Accuracy: {balanced_accuracy}')\n",
    "print(f'Weighted F1 Score: {weighted_f1_score}')\n",
    "print(f'Accuracy: {accuracy}')\n",
    "print(f'Weighted_recall: {balanced_accuracy}')\n",
    "print(f'Weighted_precision: {balanced_accuracy}')"
   ]
  },
  {
   "cell_type": "code",
   "execution_count": null,
   "id": "ebe11986-ca62-4ac3-b010-a4376e8cf4cc",
   "metadata": {},
   "outputs": [],
   "source": []
  }
 ],
 "metadata": {
  "kernelspec": {
   "display_name": "myenv",
   "language": "python",
   "name": "myenv"
  },
  "language_info": {
   "codemirror_mode": {
    "name": "ipython",
    "version": 3
   },
   "file_extension": ".py",
   "mimetype": "text/x-python",
   "name": "python",
   "nbconvert_exporter": "python",
   "pygments_lexer": "ipython3",
   "version": "3.9.15"
  }
 },
 "nbformat": 4,
 "nbformat_minor": 5
}
