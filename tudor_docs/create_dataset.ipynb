{
 "cells": [
  {
   "cell_type": "markdown",
   "metadata": {},
   "source": [
    "The task in this notebook is to recreate the dataset used in the paper, by Kačar et al., 2023: Aircraft Accident Prediction Using Machine Learning Classification Algorithms.\n",
    "\n",
    "This will be our starting point for all the processes and test we want to develop in the project. This dataset enables us to define the Machine Learning problem as a multi-class classification task, having 3 classes with 3 subclasses each, which inform the severity of the incident. Other approaches to obtain different datasets were tested: combining aviation incident data with data on all flights from a country proved unreliable, as there were no common features/identifiers in the datasets tested."
   ]
  },
  {
   "cell_type": "code",
   "execution_count": 1,
   "metadata": {},
   "outputs": [],
   "source": [
    "import numpy as np\n",
    "import pandas as pd"
   ]
  },
  {
   "cell_type": "markdown",
   "metadata": {},
   "source": [
    "### Opening every sheet of the NTSB dataset, using pandas:\n",
    "\n",
    "This is not a common way to open datasets using pandas, but we need to do this for Excel files with multiple sheets.\n",
    "\n",
    "It is more common to do:\n",
    "\n",
    "``` dataframe = pd.read_excel(path_to_data)```, but this only reads the first sheet of the Excel file, if nothing else is specified.\n",
    "\n",
    "In the case of **.csv** files, which are the most common, we can use:\n",
    "\n",
    "```dataframe = pd.read_csv(path_to_data)```\n"
   ]
  },
  {
   "cell_type": "code",
   "execution_count": 2,
   "metadata": {},
   "outputs": [],
   "source": [
    "# relative path from the folder containing this notebook:\n",
    "path_to_data = './data/ntsb.csv'\n",
    "\n",
    "# initialise the Excel file:\n",
    "ntsb = pd.ExcelFile('./data/ntsb.xlsx')\n",
    "\n",
    "# read every sheet in the Excel file:\n",
    "ntsb1 = pd.read_excel(ntsb, 'Aircraft related')\n",
    "ntsb2 = pd.read_excel(ntsb, 'Event related')\n",
    "ntsb3 = pd.read_excel(ntsb, 'Event sequence')\n",
    "ntsb4 = pd.read_excel(ntsb, 'Findings')\n",
    "ntsb5 = pd.read_excel(ntsb, 'Engines')"
   ]
  },
  {
   "cell_type": "code",
   "execution_count": null,
   "metadata": {},
   "outputs": [],
   "source": []
  }
 ],
 "metadata": {
  "kernelspec": {
   "display_name": "phd_main",
   "language": "python",
   "name": "python3"
  },
  "language_info": {
   "codemirror_mode": {
    "name": "ipython",
    "version": 3
   },
   "file_extension": ".py",
   "mimetype": "text/x-python",
   "name": "python",
   "nbconvert_exporter": "python",
   "pygments_lexer": "ipython3",
   "version": "3.11.5"
  }
 },
 "nbformat": 4,
 "nbformat_minor": 2
}
